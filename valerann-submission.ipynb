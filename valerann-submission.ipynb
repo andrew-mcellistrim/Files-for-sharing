{
 "cells": [
  {
   "cell_type": "markdown",
   "id": "f44c068c",
   "metadata": {
    "papermill": {
     "duration": 0.005403,
     "end_time": "2024-01-25T01:34:39.665945",
     "exception": false,
     "start_time": "2024-01-25T01:34:39.660542",
     "status": "completed"
    },
    "tags": []
   },
   "source": [
    "# Junior Data Scientist Technical Assignment\n",
    "# Andrew McEllistrim"
   ]
  },
  {
   "cell_type": "markdown",
   "id": "aea148a2",
   "metadata": {
    "papermill": {
     "duration": 0.004547,
     "end_time": "2024-01-25T01:34:39.675836",
     "exception": false,
     "start_time": "2024-01-25T01:34:39.671289",
     "status": "completed"
    },
    "tags": []
   },
   "source": [
    "## Importing all Neccesary packages\n"
   ]
  },
  {
   "cell_type": "code",
   "execution_count": 1,
   "id": "633a5516",
   "metadata": {
    "execution": {
     "iopub.execute_input": "2024-01-25T01:34:39.688050Z",
     "iopub.status.busy": "2024-01-25T01:34:39.687487Z",
     "iopub.status.idle": "2024-01-25T01:34:40.746803Z",
     "shell.execute_reply": "2024-01-25T01:34:40.745485Z"
    },
    "papermill": {
     "duration": 1.069191,
     "end_time": "2024-01-25T01:34:40.749961",
     "exception": false,
     "start_time": "2024-01-25T01:34:39.680770",
     "status": "completed"
    },
    "tags": []
   },
   "outputs": [],
   "source": [
    "\n",
    "\n",
    "\n",
    "import numpy as np \n",
    "import pandas as pd \n",
    "import geopandas as gpd\n",
    "\n",
    "from shapely.geometry import Point\n",
    "from shapely.geometry import LineString\n",
    "from shapely.ops import nearest_points\n",
    "\n",
    "import folium\n",
    "from folium import Marker"
   ]
  },
  {
   "cell_type": "markdown",
   "id": "9a13838f",
   "metadata": {
    "papermill": {
     "duration": 0.004693,
     "end_time": "2024-01-25T01:34:40.759700",
     "exception": false,
     "start_time": "2024-01-25T01:34:40.755007",
     "status": "completed"
    },
    "tags": []
   },
   "source": [
    "## Set up script  based on assignment and plot a map from Folium\n",
    "Upon first plotting map we see the points as defined correspond to a location in the Indian Ocean. \n",
    "Thus we assume the Longitude and Latitude are reversed. Upon testing this we recover the map shown in the assignment. Here we use np.flip() to correct the points"
   ]
  },
  {
   "cell_type": "code",
   "execution_count": 2,
   "id": "16624117",
   "metadata": {
    "execution": {
     "iopub.execute_input": "2024-01-25T01:34:40.772094Z",
     "iopub.status.busy": "2024-01-25T01:34:40.771374Z",
     "iopub.status.idle": "2024-01-25T01:34:40.800691Z",
     "shell.execute_reply": "2024-01-25T01:34:40.799411Z"
    },
    "papermill": {
     "duration": 0.039047,
     "end_time": "2024-01-25T01:34:40.803616",
     "exception": false,
     "start_time": "2024-01-25T01:34:40.764569",
     "status": "completed"
    },
    "tags": []
   },
   "outputs": [
    {
     "data": {
      "text/html": [
       "<div style=\"width:100%;\"><div style=\"position:relative;width:100%;height:0;padding-bottom:60%;\"><span style=\"color:#565656\">Make this Notebook Trusted to load map: File -> Trust Notebook</span><iframe srcdoc=\"&lt;!DOCTYPE html&gt;\n",
       "&lt;html&gt;\n",
       "&lt;head&gt;\n",
       "    \n",
       "    &lt;meta http-equiv=&quot;content-type&quot; content=&quot;text/html; charset=UTF-8&quot; /&gt;\n",
       "    \n",
       "        &lt;script&gt;\n",
       "            L_NO_TOUCH = false;\n",
       "            L_DISABLE_3D = false;\n",
       "        &lt;/script&gt;\n",
       "    \n",
       "    &lt;style&gt;html, body {width: 100%;height: 100%;margin: 0;padding: 0;}&lt;/style&gt;\n",
       "    &lt;style&gt;#map {position:absolute;top:0;bottom:0;right:0;left:0;}&lt;/style&gt;\n",
       "    &lt;script src=&quot;https://cdn.jsdelivr.net/npm/leaflet@1.9.3/dist/leaflet.js&quot;&gt;&lt;/script&gt;\n",
       "    &lt;script src=&quot;https://code.jquery.com/jquery-3.7.1.min.js&quot;&gt;&lt;/script&gt;\n",
       "    &lt;script src=&quot;https://cdn.jsdelivr.net/npm/bootstrap@5.2.2/dist/js/bootstrap.bundle.min.js&quot;&gt;&lt;/script&gt;\n",
       "    &lt;script src=&quot;https://cdnjs.cloudflare.com/ajax/libs/Leaflet.awesome-markers/2.0.2/leaflet.awesome-markers.js&quot;&gt;&lt;/script&gt;\n",
       "    &lt;link rel=&quot;stylesheet&quot; href=&quot;https://cdn.jsdelivr.net/npm/leaflet@1.9.3/dist/leaflet.css&quot;/&gt;\n",
       "    &lt;link rel=&quot;stylesheet&quot; href=&quot;https://cdn.jsdelivr.net/npm/bootstrap@5.2.2/dist/css/bootstrap.min.css&quot;/&gt;\n",
       "    &lt;link rel=&quot;stylesheet&quot; href=&quot;https://netdna.bootstrapcdn.com/bootstrap/3.0.0/css/bootstrap.min.css&quot;/&gt;\n",
       "    &lt;link rel=&quot;stylesheet&quot; href=&quot;https://cdn.jsdelivr.net/npm/@fortawesome/fontawesome-free@6.2.0/css/all.min.css&quot;/&gt;\n",
       "    &lt;link rel=&quot;stylesheet&quot; href=&quot;https://cdnjs.cloudflare.com/ajax/libs/Leaflet.awesome-markers/2.0.2/leaflet.awesome-markers.css&quot;/&gt;\n",
       "    &lt;link rel=&quot;stylesheet&quot; href=&quot;https://cdn.jsdelivr.net/gh/python-visualization/folium/folium/templates/leaflet.awesome.rotate.min.css&quot;/&gt;\n",
       "    \n",
       "            &lt;meta name=&quot;viewport&quot; content=&quot;width=device-width,\n",
       "                initial-scale=1.0, maximum-scale=1.0, user-scalable=no&quot; /&gt;\n",
       "            &lt;style&gt;\n",
       "                #map_1fba9798d62c4450cbb9c770bee95b15 {\n",
       "                    position: relative;\n",
       "                    width: 100.0%;\n",
       "                    height: 100.0%;\n",
       "                    left: 0.0%;\n",
       "                    top: 0.0%;\n",
       "                }\n",
       "                .leaflet-container { font-size: 1rem; }\n",
       "            &lt;/style&gt;\n",
       "        \n",
       "&lt;/head&gt;\n",
       "&lt;body&gt;\n",
       "    \n",
       "    \n",
       "            &lt;div class=&quot;folium-map&quot; id=&quot;map_1fba9798d62c4450cbb9c770bee95b15&quot; &gt;&lt;/div&gt;\n",
       "        \n",
       "&lt;/body&gt;\n",
       "&lt;script&gt;\n",
       "    \n",
       "    \n",
       "            var map_1fba9798d62c4450cbb9c770bee95b15 = L.map(\n",
       "                &quot;map_1fba9798d62c4450cbb9c770bee95b15&quot;,\n",
       "                {\n",
       "                    center: [51.5410709, -0.1429775],\n",
       "                    crs: L.CRS.EPSG3857,\n",
       "                    zoom: 18,\n",
       "                    zoomControl: false,\n",
       "                    preferCanvas: false,\n",
       "                    scrollWheelZoom: false,\n",
       "                    dragging: false,\n",
       "                }\n",
       "            );\n",
       "\n",
       "            \n",
       "\n",
       "        \n",
       "    \n",
       "            var tile_layer_d3f948ed357eda5564644526de3607c9 = L.tileLayer(\n",
       "                &quot;https://{s}.basemaps.cartocdn.com/light_all/{z}/{x}/{y}{r}.png&quot;,\n",
       "                {&quot;attribution&quot;: &quot;\\u0026copy; \\u003ca href=\\&quot;https://www.openstreetmap.org/copyright\\&quot;\\u003eOpenStreetMap\\u003c/a\\u003e contributors \\u0026copy; \\u003ca href=\\&quot;https://carto.com/attributions\\&quot;\\u003eCARTO\\u003c/a\\u003e&quot;, &quot;detectRetina&quot;: false, &quot;maxNativeZoom&quot;: 20, &quot;maxZoom&quot;: 20, &quot;minZoom&quot;: 0, &quot;noWrap&quot;: false, &quot;opacity&quot;: 1, &quot;subdomains&quot;: &quot;abcd&quot;, &quot;tms&quot;: false}\n",
       "            );\n",
       "        \n",
       "    \n",
       "            tile_layer_d3f948ed357eda5564644526de3607c9.addTo(map_1fba9798d62c4450cbb9c770bee95b15);\n",
       "        \n",
       "    \n",
       "            var poly_line_da2ebc62e027ca99ae303413da648584 = L.polyline(\n",
       "                [[51.5410616, -0.1421021], [51.5410683, -0.1422064], [51.5410717, -0.1423133], [51.5410881, -0.1423844], [51.5410901, -0.1425594], [51.5410819, -0.1427707], [51.5410709, -0.1429775], [51.54105, -0.1431874], [51.5410192, -0.1433833], [51.5409178, -0.1437212], [51.5407818, -0.1440496], [51.5407693, -0.1440836], [51.5407181, -0.1442231]],\n",
       "                {&quot;bubblingMouseEvents&quot;: true, &quot;color&quot;: &quot;red&quot;, &quot;dashArray&quot;: null, &quot;dashOffset&quot;: null, &quot;fill&quot;: false, &quot;fillColor&quot;: &quot;red&quot;, &quot;fillOpacity&quot;: 0.2, &quot;fillRule&quot;: &quot;evenodd&quot;, &quot;lineCap&quot;: &quot;round&quot;, &quot;lineJoin&quot;: &quot;round&quot;, &quot;noClip&quot;: false, &quot;opacity&quot;: 1, &quot;smoothFactor&quot;: 1.0, &quot;stroke&quot;: true, &quot;weight&quot;: 2.5}\n",
       "            ).addTo(map_1fba9798d62c4450cbb9c770bee95b15);\n",
       "        \n",
       "&lt;/script&gt;\n",
       "&lt;/html&gt;\" style=\"position:absolute;width:100%;height:100%;left:0;top:0;border:none !important;\" allowfullscreen webkitallowfullscreen mozallowfullscreen></iframe></div></div>"
      ],
      "text/plain": [
       "<folium.folium.Map at 0x78bf99521ea0>"
      ]
     },
     "execution_count": 2,
     "metadata": {},
     "output_type": "execute_result"
    }
   ],
   "source": [
    "points=[(-0.1421021, 51.5410616),(-0.1422064, 51.5410683),(-0.1423133, 51.5410717),\n",
    "        (-0.1423844, 51.5410881),(-0.1425594, 51.5410901),(-0.1427707, 51.5410819),\n",
    "        (-0.1429775, 51.5410709),(-0.1431874, 51.54105),(-0.1433833, 51.5410192),\n",
    "        (-0.1437212, 51.5409178),(-0.1440496, 51.5407818),(-0.1440836, 51.5407693),\n",
    "        (-0.1442231, 51.5407181)]\n",
    "points=np.flip(points,axis=1)\n",
    "\n",
    "#Draw a map to visualise problem\n",
    "map = folium.Map(location=points[6], tiles='CartoDB Positron', zoom_start=18,\n",
    "                 zoom_control=False,scrollWheelZoom=False,dragging=False)\n",
    "folium.PolyLine(points, color=\"red\", weight=2.5, opacity=1).add_to(map)\n",
    "map"
   ]
  },
  {
   "cell_type": "markdown",
   "id": "93162640",
   "metadata": {
    "papermill": {
     "duration": 0.004985,
     "end_time": "2024-01-25T01:34:40.813944",
     "exception": false,
     "start_time": "2024-01-25T01:34:40.808959",
     "status": "completed"
    },
    "tags": []
   },
   "source": [
    "## Create our GeoPanda Dataframes"
   ]
  },
  {
   "cell_type": "code",
   "execution_count": 3,
   "id": "2e74c24e",
   "metadata": {
    "execution": {
     "iopub.execute_input": "2024-01-25T01:34:40.826798Z",
     "iopub.status.busy": "2024-01-25T01:34:40.826241Z",
     "iopub.status.idle": "2024-01-25T01:34:40.872828Z",
     "shell.execute_reply": "2024-01-25T01:34:40.871505Z"
    },
    "papermill": {
     "duration": 0.056548,
     "end_time": "2024-01-25T01:34:40.875836",
     "exception": false,
     "start_time": "2024-01-25T01:34:40.819288",
     "status": "completed"
    },
    "tags": []
   },
   "outputs": [],
   "source": [
    "# Define the WGS line string geometry\n",
    "wgs_geometry = LineString(points)\n",
    "\n",
    "# Define the LRS line string geometry\n",
    "lrs_geometry = LineString([(0, 0),(157.36859375593266, 0)])\n",
    "\n",
    "# Convert WGS geometry to GeoDataFrame\n",
    "wgs_gdf = gpd.GeoDataFrame(geometry=[wgs_geometry],crs=\"EPSG:4326\")\n",
    "\n",
    "# Convert LRS geometry to GeoDataFrame\n",
    "lrs_gdf = gpd.GeoDataFrame(geometry=[lrs_geometry])"
   ]
  },
  {
   "cell_type": "markdown",
   "id": "4a15781e",
   "metadata": {
    "papermill": {
     "duration": 0.005009,
     "end_time": "2024-01-25T01:34:40.888462",
     "exception": false,
     "start_time": "2024-01-25T01:34:40.883453",
     "status": "completed"
    },
    "tags": []
   },
   "source": [
    "## Task 1\n",
    "Convert points from lrs to wgs \n",
    "\n",
    "Point 1 = (0,0) \n",
    "\n",
    "Point 2 = (106, 0) "
   ]
  },
  {
   "cell_type": "code",
   "execution_count": 4,
   "id": "237043a2",
   "metadata": {
    "execution": {
     "iopub.execute_input": "2024-01-25T01:34:40.901454Z",
     "iopub.status.busy": "2024-01-25T01:34:40.900882Z",
     "iopub.status.idle": "2024-01-25T01:34:40.921717Z",
     "shell.execute_reply": "2024-01-25T01:34:40.919924Z"
    },
    "papermill": {
     "duration": 0.03089,
     "end_time": "2024-01-25T01:34:40.924651",
     "exception": false,
     "start_time": "2024-01-25T01:34:40.893761",
     "status": "completed"
    },
    "tags": []
   },
   "outputs": [
    {
     "name": "stdout",
     "output_type": "stream",
     "text": [
      "Part One:\n",
      "POINT(0 0) in WGS: POINT (51.5410616 -0.1421021)\n",
      "POINT(106 0) in WGS: POINT (51.5409671 -0.143557)\n"
     ]
    }
   ],
   "source": [
    "#define points\n",
    "lrs_point_1 = Point(0, 0)\n",
    "lrs_point_2 = Point(106, 0)\n",
    "\n",
    "#create function\n",
    "def LRS_to_WGS(LRS_PT,wgs_gdf,lrs_gdf):\n",
    "    LRS_PT=np.asarray(LRS_PT.coords)[0, 0] \n",
    "    LRS_LINESTRING = lrs_gdf['geometry'].iloc[0]      #extracts the linestring from the lrs_gdf\n",
    "    TOTAL_LRS_VAL=np.asarray(LRS_LINESTRING.coords)[-1,0] \n",
    "    SCALE=LRS_PT/TOTAL_LRS_VAL \n",
    "    WGS_PT=wgs_gdf['geometry'].iloc[0].interpolate(SCALE,1)\n",
    "    WGS_PT = Point(round(WGS_PT.x, 7), round(WGS_PT.y, 7))\n",
    "    return WGS_PT\n",
    "\n",
    "#Get answers and then print results\n",
    "wgs_result_1 = LRS_to_WGS(lrs_point_1,wgs_gdf,lrs_gdf)\n",
    "wgs_result_2 = LRS_to_WGS(lrs_point_2,wgs_gdf,lrs_gdf)\n",
    "\n",
    "print(\"Part One:\")\n",
    "print(\"POINT(0 0) in WGS:\", wgs_result_1)\n",
    "print(\"POINT(106 0) in WGS:\", wgs_result_2)"
   ]
  },
  {
   "cell_type": "markdown",
   "id": "66a52525",
   "metadata": {
    "papermill": {
     "duration": 0.005332,
     "end_time": "2024-01-25T01:34:40.935839",
     "exception": false,
     "start_time": "2024-01-25T01:34:40.930507",
     "status": "completed"
    },
    "tags": []
   },
   "source": [
    "## Task 2\n",
    "Convert points from wgs to lrs (note points flipped to match convention as defined earlier)\n",
    "\n",
    "Point 1=(51.5410819 -0.1427707)\n",
    "\n",
    "Point 2=(51.5410498 -0.1431889)"
   ]
  },
  {
   "cell_type": "code",
   "execution_count": 5,
   "id": "b4bf248b",
   "metadata": {
    "execution": {
     "iopub.execute_input": "2024-01-25T01:34:40.949192Z",
     "iopub.status.busy": "2024-01-25T01:34:40.948732Z",
     "iopub.status.idle": "2024-01-25T01:34:40.960952Z",
     "shell.execute_reply": "2024-01-25T01:34:40.959785Z"
    },
    "papermill": {
     "duration": 0.023426,
     "end_time": "2024-01-25T01:34:40.964953",
     "exception": false,
     "start_time": "2024-01-25T01:34:40.941527",
     "status": "completed"
    },
    "tags": []
   },
   "outputs": [
    {
     "name": "stdout",
     "output_type": "stream",
     "text": [
      "Part Two:\n",
      "POINT(51.5410819 -0.1427707) in LRS: POINT (48.42 0)\n",
      "POINT(51.5410498 -0.1431889) in LRS: POINT (78.71 0)\n"
     ]
    }
   ],
   "source": [
    "#define points\n",
    "wgs_point_1 = Point(51.5410819, -0.1427707)\n",
    "wgs_point_2 = Point(51.5410498, -0.1431889)\n",
    "\n",
    "#create function\n",
    "def wgs_to_lrs(WGS_PT,wgs_gdf,lrs_gdf):\n",
    "    LIN_REF = wgs_gdf['geometry'].iloc[0].project(WGS_PT) #needs scaling as length in WGS non-intuitive\n",
    "    LRS_LINESTRING = lrs_gdf['geometry'].iloc[0]\n",
    "    END=np.asarray(LRS_LINESTRING.coords)[-1,0] \n",
    "    SCALED_LIN_REF=LIN_REF/wgs_gdf['geometry'].iloc[0].length * END #scaling answer to LRS scale\n",
    "    SLF=round(SCALED_LIN_REF,2)\n",
    "    SLF=Point(SLF,0) #returns output to point format\n",
    "    return SLF\n",
    "\n",
    "#Get answers and then print results\n",
    "lrs_result_1 = wgs_to_lrs(wgs_point_1,wgs_gdf,lrs_gdf)\n",
    "lrs_result_2 = wgs_to_lrs(wgs_point_2,wgs_gdf,lrs_gdf)\n",
    "\n",
    "print(\"Part Two:\")\n",
    "print(\"POINT(51.5410819 -0.1427707) in LRS:\", lrs_result_1)\n",
    "print(\"POINT(51.5410498 -0.1431889) in LRS:\", lrs_result_2)"
   ]
  },
  {
   "cell_type": "markdown",
   "id": "288dbf77",
   "metadata": {
    "papermill": {
     "duration": 0.005641,
     "end_time": "2024-01-25T01:34:40.977253",
     "exception": false,
     "start_time": "2024-01-25T01:34:40.971612",
     "status": "completed"
    },
    "tags": []
   },
   "source": [
    "## Task 3\n",
    "**‘snap’** the following points to the nearest bit of the road carriageway and provide both the wgs_geometry and lrs_geometry of the snapped point:\n",
    "\n",
    "Point 1= (51.5411983 -0.1426069)\n",
    "\n",
    "Point 2= (51.5404112 -0.1434099)\n",
    "\n",
    "Point 3= (51.5412199 -0.1478768)\n"
   ]
  },
  {
   "cell_type": "code",
   "execution_count": 6,
   "id": "2af59da4",
   "metadata": {
    "execution": {
     "iopub.execute_input": "2024-01-25T01:34:40.992282Z",
     "iopub.status.busy": "2024-01-25T01:34:40.991828Z",
     "iopub.status.idle": "2024-01-25T01:34:41.007167Z",
     "shell.execute_reply": "2024-01-25T01:34:41.005892Z"
    },
    "papermill": {
     "duration": 0.025967,
     "end_time": "2024-01-25T01:34:41.010031",
     "exception": false,
     "start_time": "2024-01-25T01:34:40.984064",
     "status": "completed"
    },
    "tags": []
   },
   "outputs": [
    {
     "name": "stdout",
     "output_type": "stream",
     "text": [
      "Part 3:\n",
      "Given POINT (51.5411983 -0.1426069) , this snaps onto the line at POINT (51.5410884 -0.1426026) in WGS and POINT (36.28 0) in LRS\n",
      "Given POINT (51.5404112 -0.1434099) , this snaps onto the line at POINT (51.5409616 -0.1435751) in WGS and POINT (107.36 0) in LRS\n",
      "Given POINT (51.5412199 -0.1478768) , this snaps onto the line at POINT (51.5407181 -0.1442231) in WGS and POINT (157.37 0) in LRS\n"
     ]
    }
   ],
   "source": [
    "#define points\n",
    "snap_point_1=Point(51.5411983,-0.1426069, )\n",
    "snap_point_2=Point(51.5404112, -0.1434099, )\n",
    "snap_point_3=Point(51.5412199, -0.1478768, )\n",
    "\n",
    "#create function\n",
    "def snap_to_nearest(SNAP_PT,wgs_gdf,lrs_gdf):\n",
    "    LINE=wgs_gdf['geometry'].iloc[0]\n",
    "    NPOL, _ = nearest_points(LINE, SNAP_PT) #NPOL= nearest point on line\n",
    "    NPOL = Point(round(NPOL.x, 7), round(NPOL.y, 7))\n",
    "    NPOL_LRS=wgs_to_lrs(NPOL,wgs_gdf,lrs_gdf)\n",
    "    return NPOL, NPOL_LRS\n",
    "\n",
    "#Get answers and then print results\n",
    "NPOL1,NPOL_LRS1=snap_to_nearest(snap_point_1,wgs_gdf,lrs_gdf)\n",
    "NPOL2,NPOL_LRS2=snap_to_nearest(snap_point_2,wgs_gdf,lrs_gdf)\n",
    "NPOL3,NPOL_LRS3=snap_to_nearest(snap_point_3,wgs_gdf,lrs_gdf)\n",
    "\n",
    "print('Part 3:')\n",
    "print('Given',snap_point_1,', this snaps onto the line at',NPOL1,'in WGS and',NPOL_LRS1,'in LRS')\n",
    "print('Given',snap_point_2,', this snaps onto the line at',NPOL2,'in WGS and',NPOL_LRS2,'in LRS')\n",
    "print('Given',snap_point_3,', this snaps onto the line at',NPOL3,'in WGS and',NPOL_LRS3,'in LRS')\n"
   ]
  },
  {
   "cell_type": "code",
   "execution_count": null,
   "id": "34056a8a",
   "metadata": {
    "papermill": {
     "duration": 0.005963,
     "end_time": "2024-01-25T01:34:41.021969",
     "exception": false,
     "start_time": "2024-01-25T01:34:41.016006",
     "status": "completed"
    },
    "tags": []
   },
   "outputs": [],
   "source": []
  }
 ],
 "metadata": {
  "kaggle": {
   "accelerator": "none",
   "dataSources": [],
   "dockerImageVersionId": 30635,
   "isGpuEnabled": false,
   "isInternetEnabled": false,
   "language": "python",
   "sourceType": "notebook"
  },
  "kernelspec": {
   "display_name": "Python 3",
   "language": "python",
   "name": "python3"
  },
  "language_info": {
   "codemirror_mode": {
    "name": "ipython",
    "version": 3
   },
   "file_extension": ".py",
   "mimetype": "text/x-python",
   "name": "python",
   "nbconvert_exporter": "python",
   "pygments_lexer": "ipython3",
   "version": "3.10.12"
  },
  "papermill": {
   "default_parameters": {},
   "duration": 5.708412,
   "end_time": "2024-01-25T01:34:41.650502",
   "environment_variables": {},
   "exception": null,
   "input_path": "__notebook__.ipynb",
   "output_path": "__notebook__.ipynb",
   "parameters": {},
   "start_time": "2024-01-25T01:34:35.942090",
   "version": "2.4.0"
  }
 },
 "nbformat": 4,
 "nbformat_minor": 5
}
